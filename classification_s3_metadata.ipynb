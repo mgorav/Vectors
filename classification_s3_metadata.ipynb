{
 "cells": [
  {
   "cell_type": "markdown",
   "source": [
    "# Classifying S3 Data Sensitivity with Machine Learning\n",
    "This notebook demonstrates how to categorize S3 data objects as sensitive or non-sensitive by analyzing object metadata with Python and scikit-learn.\n",
    "\n",
    "## 1. Business Problem\n",
    "With data stored in S3 buckets, we need an automated way to identify sensitive data and enforce security policies. Manually classifying data does not scale.\n",
    "\n",
    "We will build a proof of concept to show how object metadata like bucket names and access patterns can be used to train an ML model to classify sensitivity.\n",
    "\n",
    "## 2. Sample Data\n",
    "We create sample metadata for a few S3 objects containing attributes like bucket name and last accessed date:"
   ],
   "metadata": {
    "collapsed": false
   },
   "id": "c0b2304e3b7dcb92"
  },
  {
   "cell_type": "code",
   "outputs": [
    {
     "data": {
      "text/plain": "               s3bucket  days_since_access  data_size_gb\n0        financial-data               2291          0.02\n1            model-data                119          0.02\n2             log-files               2733          0.01\n3         airflow-genie               2291          0.02\n4        searchmetadata                119          0.02\n5  digital-archive-east                138         15.92",
      "text/html": "<div>\n<style scoped>\n    .dataframe tbody tr th:only-of-type {\n        vertical-align: middle;\n    }\n\n    .dataframe tbody tr th {\n        vertical-align: top;\n    }\n\n    .dataframe thead th {\n        text-align: right;\n    }\n</style>\n<table border=\"1\" class=\"dataframe\">\n  <thead>\n    <tr style=\"text-align: right;\">\n      <th></th>\n      <th>s3bucket</th>\n      <th>days_since_access</th>\n      <th>data_size_gb</th>\n    </tr>\n  </thead>\n  <tbody>\n    <tr>\n      <th>0</th>\n      <td>financial-data</td>\n      <td>2291</td>\n      <td>0.02</td>\n    </tr>\n    <tr>\n      <th>1</th>\n      <td>model-data</td>\n      <td>119</td>\n      <td>0.02</td>\n    </tr>\n    <tr>\n      <th>2</th>\n      <td>log-files</td>\n      <td>2733</td>\n      <td>0.01</td>\n    </tr>\n    <tr>\n      <th>3</th>\n      <td>airflow-genie</td>\n      <td>2291</td>\n      <td>0.02</td>\n    </tr>\n    <tr>\n      <th>4</th>\n      <td>searchmetadata</td>\n      <td>119</td>\n      <td>0.02</td>\n    </tr>\n    <tr>\n      <th>5</th>\n      <td>digital-archive-east</td>\n      <td>138</td>\n      <td>15.92</td>\n    </tr>\n  </tbody>\n</table>\n</div>"
     },
     "metadata": {},
     "output_type": "display_data"
    }
   ],
   "source": [
    "import pandas as pd\n",
    "import sns\n",
    "\n",
    "data = [{'s3bucket': 'financial-data', 'days_since_access': 2291, 'data_size_gb': 0.02},\n",
    "        {'s3bucket': 'model-data', 'days_since_access': 119, 'data_size_gb': 0.02},\n",
    "        {'s3bucket': 'log-files', 'days_since_access': 2733, 'data_size_gb': 0.01},\n",
    "        {'s3bucket': 'airflow-genie', 'days_since_access': 2291, 'data_size_gb': 0.02},\n",
    "        {'s3bucket': 'searchmetadata', 'days_since_access': 119, 'data_size_gb': 0.02},\n",
    "        {'s3bucket': 'digital-archive-east', 'days_since_access': 138, 'data_size_gb': 15.92}]\n",
    "\n",
    "df = pd.DataFrame(data)\n",
    "display(df)"
   ],
   "metadata": {
    "collapsed": false,
    "ExecuteTime": {
     "end_time": "2024-01-20T21:55:22.534701Z",
     "start_time": "2024-01-20T21:55:22.505183Z"
    }
   },
   "id": "72779e47d1bd80bc",
   "execution_count": 4
  },
  {
   "cell_type": "markdown",
   "source": [
    "## 3. Feature Engineering\n",
    "We transform the text data about S3 bucket names into numeric vectors using scikit-learn's TfidfVectorizer. This encoder converts text into tf-idf vectors.\n",
    "\n",
    "TfidfVectorizer removes stopwords, applies tokenization, ngram generation, and calculates document frequencies to encode text data."
   ],
   "metadata": {
    "collapsed": false
   },
   "id": "ba40e4742cd269fb"
  },
  {
   "cell_type": "code",
   "outputs": [
    {
     "data": {
      "text/plain": "<Figure size 640x480 with 1 Axes>",
      "image/png": "[encoded data removed]"
     },
     "metadata": {},
     "output_type": "display_data"
    }
   ],
   "source": [
    "import matplotlib.pyplot as plt\n",
    "\n",
    "ax = df.plot.bar(x='s3bucket', y='days_since_access', rot=0)\n",
    "ax.set_ylabel(\"Days Since Last Access\")\n",
    "plt.show()"
   ],
   "metadata": {
    "collapsed": false,
    "ExecuteTime": {
     "end_time": "2024-01-20T21:55:22.661019Z",
     "start_time": "2024-01-20T21:55:22.518464Z"
    }
   },
   "id": "cd88de9d066fc836",
   "execution_count": 5
  },
  {
   "cell_type": "markdown",
   "source": [
    "Below heatmap visualization shows the **tf-idf vector values** for each feature (token) from the `TfidfVectorizer` text encoding process.\n",
    "\n",
    "Specifically:\n",
    "\n",
    "* The x-axis contains the **feature names** - these are the **individual text tokens** (terms) extracted from the S3 bucket names after preprocessing (lowercasing, stopword removal etc).\n",
    "\n",
    "* The y-axis corresponds to the **individual S3 records** from our sample metadata.\n",
    "\n",
    "* Each cell shows the **tf-idf weight** calculated by the vectorizer for that particular token in that specific document.\n",
    "\n",
    "* **Brighter colors** indicate a **higher tf-idf value** and hence a greater relevance for that term in the document.\n",
    "\n",
    "So in summary, the heatmap gives us:\n",
    "\n",
    "- A glance of the most \"important\" words in characterizing each document based on word frequencies.\n",
    "\n",
    "- This is a vectorized numeric representation of the original text data.\n",
    "\n",
    "- Shows which terms distinguish documents from one another.\n",
    "\n",
    "Analyzing these high-weight features can give insight into patterns that help predict sensitivity - e.g financial tokens being more indicative of confidential data.\n"
   ],
   "metadata": {
    "collapsed": false
   },
   "id": "5a9d7437681db78d"
  },
  {
   "cell_type": "code",
   "outputs": [
    {
     "ename": "AttributeError",
     "evalue": "module 'sns' has no attribute 'heatmap'",
     "output_type": "error",
     "traceback": [
      "\u001B[0;31m---------------------------------------------------------------------------\u001B[0m",
      "\u001B[0;31mAttributeError\u001B[0m                            Traceback (most recent call last)",
      "Cell \u001B[0;32mIn[6], line 7\u001B[0m\n\u001B[1;32m      4\u001B[0m X \u001B[38;5;241m=\u001B[39m vectorizer\u001B[38;5;241m.\u001B[39mfit_transform(df[\u001B[38;5;124m'\u001B[39m\u001B[38;5;124ms3bucket\u001B[39m\u001B[38;5;124m'\u001B[39m])\n\u001B[1;32m      5\u001B[0m feature_names \u001B[38;5;241m=\u001B[39m vectorizer\u001B[38;5;241m.\u001B[39mget_feature_names_out()\n\u001B[0;32m----> 7\u001B[0m ax \u001B[38;5;241m=\u001B[39m \u001B[43msns\u001B[49m\u001B[38;5;241;43m.\u001B[39;49m\u001B[43mheatmap\u001B[49m(X\u001B[38;5;241m.\u001B[39mtoarray(), xticklabels\u001B[38;5;241m=\u001B[39mfeature_names)\n\u001B[1;32m      8\u001B[0m plt\u001B[38;5;241m.\u001B[39mxlabel(\u001B[38;5;124m\"\u001B[39m\u001B[38;5;124mTokens\u001B[39m\u001B[38;5;124m\"\u001B[39m)\n",
      "\u001B[0;31mAttributeError\u001B[0m: module 'sns' has no attribute 'heatmap'"
     ]
    }
   ],
   "source": [
    "from sklearn.feature_extraction.text import TfidfVectorizer\n",
    "\n",
    "vectorizer = TfidfVectorizer()\n",
    "X = vectorizer.fit_transform(df['s3bucket'])\n",
    "feature_names = vectorizer.get_feature_names_out()\n",
    "\n",
    "ax = sns.heatmap(X.toarray(), xticklabels=feature_names)\n",
    "plt.xlabel(\"Tokens\")\n"
   ],
   "metadata": {
    "collapsed": false,
    "ExecuteTime": {
     "end_time": "2024-01-20T21:55:22.721683Z",
     "start_time": "2024-01-20T21:55:22.666002Z"
    }
   },
   "id": "2b125f957fde54cf",
   "execution_count": 6
  },
  {
   "cell_type": "markdown",
   "source": [
    "# 4. Classification Model\n",
    "\n",
    "With numeric vectors representing the S3 metadata, we can now train a classification algorithm to predict sensitivity labels. \n",
    "\n",
    "For this, we will use the **Multinomial Naive Bayes** algorithm. \n",
    "\n",
    "#### Overview\n",
    "\n",
    "The Multinomial NB model is a common choice for document classification tasks. It applies Bayes' theorem with a strong assumption of **word independence** to calculate probabilities of classes.\n",
    "\n",
    "The advantages are that it is **simple, fast to train, and works well for text data.**\n",
    "\n",
    "#### Mathematical Details\n",
    "\n",
    "- Uses multinomial distributions to represent word counts\n",
    "- Predicts classes using Bayes' rule to calculate posterior probabilities:\n",
    "\n",
    "$\\Large{P(c_k|d)=\\frac{P(c_k)\\prod_{i=1}^{N_{words}} P(w_i|c_k)^{n_{i}}}{P(d)}}$\n",
    "\n",
    "where $n_{i,j}$ is the number of times word $w_i$ appeared in training document $d_j$.\n",
    "\n",
    "We implement the model in Python as:  "
   ],
   "metadata": {
    "collapsed": false
   },
   "id": "6dc7c842b0b60c58"
  },
  {
   "cell_type": "code",
   "outputs": [],
   "source": [
    "# X has 6 samples \n",
    "X = vectorizer.fit_transform(df['s3bucket'])\n",
    "\n",
    "# Update y to match \n",
    "y = [0, 1, 0, 0, 1, 0]\n",
    "\n",
    "nb.fit(X, y)"
   ],
   "metadata": {
    "collapsed": false,
    "ExecuteTime": {
     "start_time": "2024-01-20T21:55:22.682615Z"
    }
   },
   "id": "43396f647f7b915a",
   "execution_count": null
  },
  {
   "cell_type": "markdown",
   "source": [
    "## 5. Making Predictions\n",
    "We can now use our model to classify new S3 objects:"
   ],
   "metadata": {
    "collapsed": false
   },
   "id": "e30f9cfc09fffc0c"
  },
  {
   "cell_type": "code",
   "outputs": [],
   "source": [
    "X_test = vectorizer.transform(['financial-reports'])\n",
    "\n",
    "y_pred = nb.predict(X_test)\n",
    "print(y_pred)"
   ],
   "metadata": {
    "collapsed": false,
    "ExecuteTime": {
     "start_time": "2024-01-20T21:55:22.684396Z"
    }
   },
   "id": "f2c14d1e26c2bc14",
   "execution_count": null
  },
  {
   "cell_type": "markdown",
   "source": [
    "## 6. Evaluating Performance\n",
    "We check accuracy on sample data by comparing to known labels:"
   ],
   "metadata": {
    "collapsed": false
   },
   "id": "82f0615b07e47e2f"
  },
  {
   "cell_type": "code",
   "outputs": [],
   "source": [
    "import numpy as np\n",
    "from sklearn.metrics import accuracy_score\n",
    "\n",
    "y = np.array([0, 1, 0])\n",
    "y_pred = np.array([0, 1, 1])\n",
    "\n",
    "accuracy_score(y, y_pred)"
   ],
   "metadata": {
    "collapsed": false,
    "ExecuteTime": {
     "start_time": "2024-01-20T21:55:22.686391Z"
    }
   },
   "id": "f9473cac3137ecfc",
   "execution_count": null
  },
  {
   "cell_type": "markdown",
   "source": [
    "In real applications, precision and recall also matter for sensitive data.\n",
    "\n",
    "This notebooks shows a basic workflow for metadata-based S3 classification with Python. Next steps could include larger data, better features, and tuning models."
   ],
   "metadata": {
    "collapsed": false
   },
   "id": "597624ad3a0beaac"
  },
  {
   "cell_type": "code",
   "outputs": [],
   "source": [],
   "metadata": {
    "collapsed": false,
    "ExecuteTime": {
     "start_time": "2024-01-20T21:55:22.687991Z"
    }
   },
   "id": "68e6ee21345fd896"
  }
 ],
 "metadata": {
  "kernelspec": {
   "display_name": "Python 3",
   "language": "python",
   "name": "python3"
  },
  "language_info": {
   "codemirror_mode": {
    "name": "ipython",
    "version": 2
   },
   "file_extension": ".py",
   "mimetype": "text/x-python",
   "name": "python",
   "nbconvert_exporter": "python",
   "pygments_lexer": "ipython2",
   "version": "2.7.6"
  }
 },
 "nbformat": 4,
 "nbformat_minor": 5
}
